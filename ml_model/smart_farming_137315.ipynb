{
 "cells": [
  {
   "cell_type": "code",
   "execution_count": 1,
   "id": "4180d5ca",
   "metadata": {},
   "outputs": [],
   "source": [
    "# import libraries \n",
    "import pandas as pd\n",
    "import numpy as np\n",
    "import matplotlib.pyplot as plt\n",
    "import seaborn as sns\n",
    "#for interactivity\n",
    "from ipywidgets import interact"
   ]
  },
  {
   "cell_type": "code",
   "execution_count": 2,
   "id": "a7c85458",
   "metadata": {},
   "outputs": [],
   "source": [
    "# import dataset :\n",
    "url = \"https://raw.githubusercontent.com/arzzahid66/Optimizing_Agricultural_Production/master/Crop_recommendation.csv\"\n",
    "df =pd.read_csv(url)"
   ]
  },
  {
   "cell_type": "code",
   "execution_count": 3,
   "id": "fb2b4340",
   "metadata": {},
   "outputs": [
    {
     "name": "stdout",
     "output_type": "stream",
     "text": [
      "The shape of dataset is : (2200, 8)\n"
     ]
    }
   ],
   "source": [
    "# check the shape of dataset\n",
    "print(\"The shape of dataset is :\",df.shape)"
   ]
  },
  {
   "cell_type": "code",
   "execution_count": 4,
   "id": "6fee817a",
   "metadata": {},
   "outputs": [
    {
     "data": {
      "text/plain": [
       "N              0\n",
       "P              0\n",
       "K              0\n",
       "temperature    0\n",
       "humidity       0\n",
       "ph             0\n",
       "rainfall       0\n",
       "label          0\n",
       "dtype: int64"
      ]
     },
     "execution_count": 4,
     "metadata": {},
     "output_type": "execute_result"
    }
   ],
   "source": [
    "# find and count missing values\n",
    "df.isnull().sum()"
   ]
  },
  {
   "cell_type": "code",
   "execution_count": 5,
   "id": "180823b4",
   "metadata": {},
   "outputs": [
    {
     "data": {
      "text/plain": [
       "rice           100\n",
       "maize          100\n",
       "jute           100\n",
       "cotton         100\n",
       "coconut        100\n",
       "papaya         100\n",
       "orange         100\n",
       "apple          100\n",
       "muskmelon      100\n",
       "watermelon     100\n",
       "grapes         100\n",
       "mango          100\n",
       "banana         100\n",
       "pomegranate    100\n",
       "lentil         100\n",
       "blackgram      100\n",
       "mungbean       100\n",
       "mothbeans      100\n",
       "pigeonpeas     100\n",
       "kidneybeans    100\n",
       "chickpea       100\n",
       "coffee         100\n",
       "Name: label, dtype: int64"
      ]
     },
     "execution_count": 5,
     "metadata": {},
     "output_type": "execute_result"
    }
   ],
   "source": [
    "# lets check crops presents in this dataset \n",
    "df[\"label\"].value_counts()"
   ]
  },
  {
   "cell_type": "code",
   "execution_count": 6,
   "id": "9b044e74",
   "metadata": {},
   "outputs": [
    {
     "data": {
      "text/plain": [
       "Index(['N', 'P', 'K', 'temperature', 'humidity', 'ph', 'rainfall', 'label'], dtype='object')"
      ]
     },
     "execution_count": 6,
     "metadata": {},
     "output_type": "execute_result"
    }
   ],
   "source": [
    "df.columns"
   ]
  },
  {
   "cell_type": "code",
   "execution_count": 7,
   "id": "22f6c7c5",
   "metadata": {},
   "outputs": [
    {
     "name": "stdout",
     "output_type": "stream",
     "text": [
      "average ratio of nitrogen in soil : 50.551818\n",
      "average ratio of nitrogen in soil : 53.362727\n",
      "average ratio of nitrogen in soil : 48.149091\n",
      "average ratio of nitrogen in soil : 25.616244\n",
      "average ratio of nitrogen in soil : 71.481779\n",
      "average ratio of nitrogen in soil : 6.469480\n",
      "average ratio of nitrogen in soil : 103.463655\n"
     ]
    }
   ],
   "source": [
    "# checking the summary of all crops \n",
    "print(\"average ratio of nitrogen in soil : {0:2f}\".format(df[\"N\"].mean()))\n",
    "print(\"average ratio of nitrogen in soil : {0:2f}\".format(df[\"P\"].mean()))\n",
    "print(\"average ratio of nitrogen in soil : {0:2f}\".format(df[\"K\"].mean()))\n",
    "print(\"average ratio of nitrogen in soil : {0:2f}\".format(df[\"temperature\"].mean()))\n",
    "print(\"average ratio of nitrogen in soil : {0:2f}\".format(df[\"humidity\"].mean()))\n",
    "print(\"average ratio of nitrogen in soil : {0:2f}\".format(df[\"ph\"].mean()))\n",
    "print(\"average ratio of nitrogen in soil : {0:2f}\".format(df[\"rainfall\"].mean()))"
   ]
  },
  {
   "cell_type": "code",
   "execution_count": 8,
   "id": "6b3c430d",
   "metadata": {},
   "outputs": [
    {
     "data": {
      "application/vnd.jupyter.widget-view+json": {
       "model_id": "8b3c6d5422aa4a2eb3f8560358c51284",
       "version_major": 2,
       "version_minor": 0
      },
      "text/plain": [
       "interactive(children=(Dropdown(description='crops', options=('rice', 'maize', 'jute', 'cotton', 'coconut', 'pa…"
      ]
     },
     "metadata": {},
     "output_type": "display_data"
    }
   ],
   "source": [
    "# lets check the summary of statistics for each of crops \n",
    "@interact\n",
    "def summary(crops=list(df[\"label\"].value_counts().index)):\n",
    "    x=df[df[\"label\"]==crops]\n",
    "    print(\"...........................................\")\n",
    "    print(\"statistics for nitrogen\")\n",
    "    print(\"minimum nitrogen required :\",x[\"N\"].min())\n",
    "    print(\"average nitrogen required :\",x[\"N\"].mean())\n",
    "    print(\"maximum nitrogen required :\",x[\"N\"].max())\n",
    "    print(\"...........................................\")\n",
    "    print(\"statistics for phosphorous\")\n",
    "    print(\"minimum phosphorous required :\",x[\"P\"].min())\n",
    "    print(\"average phosphorous required :\",x[\"P\"].mean())\n",
    "    print(\"maximum phosphorous required :\",x[\"P\"].max())\n",
    "    print(\"...........................................\")\n",
    "    print(\"statistics for potassium\")\n",
    "    print(\"minimum potassium required :\",x[\"K\"].min())\n",
    "    print(\"average potassium required :\",x[\"K\"].mean())\n",
    "    print(\"maximum potassium required :\",x[\"K\"].max())\n",
    "    print(\"...........................................\")\n",
    "    print(\"statistics for temperature\")\n",
    "    print(\"minimum temperature required :{0:2f}\".format(x[\"temperature\"].min()))\n",
    "    print(\"average temperature required :{0:2f}\".format(x[\"temperature\"].mean()))\n",
    "    print(\"maximum temperature required :{0:2f}\".format(x[\"temperature\"].max()))\n",
    "    print(\"...........................................\")\n",
    "    print(\"statistics for humidity\")\n",
    "    print(\"minimum humidity required :{0:2f}\".format(x[\"humidity\"].min()))\n",
    "    print(\"average humidity required :{0:2f}\".format(x[\"humidity\"].mean()))\n",
    "    print(\"maximum humidity required :{0:2f}\".format(x[\"humidity\"].max()))\n",
    "    print(\"...........................................\")\n",
    "    print(\"statistics for ph\")\n",
    "    print(\"minimum ph required :{0:2f}\".format(x[\"ph\"].min()))\n",
    "    print(\"average ph required :{0:2f}\".format(x[\"ph\"].mean()))\n",
    "    print(\"maximum ph required :{0:2f}\".format(x[\"ph\"].max()))\n",
    "    print(\"...........................................\")\n",
    "    print(\"statistics for rainfall\")\n",
    "    print(\"minimum rainfall required :{0:2f}\".format(x[\"rainfall\"].min()))\n",
    "    print(\"average rainfall required :{0:2f}\".format(x[\"rainfall\"].mean()))\n",
    "    print(\"maximum rainfall required :{0:2f}\".format(x[\"rainfall\"].max()))"
   ]
  },
  {
   "cell_type": "code",
   "execution_count": 9,
   "id": "da1371ad",
   "metadata": {},
   "outputs": [
    {
     "data": {
      "application/vnd.jupyter.widget-view+json": {
       "model_id": "d2d441ebc3a74aeda3fa967b348e2174",
       "version_major": 2,
       "version_minor": 0
      },
      "text/plain": [
       "interactive(children=(Dropdown(description='conditions', options=('N', 'K', 'P', 'temperature', 'humidity', 'p…"
      ]
     },
     "metadata": {},
     "output_type": "display_data"
    }
   ],
   "source": [
    "# lets compare the average requirement for each crops with conditions \n",
    "\n",
    "@interact\n",
    "def compare(conditions=[\"N\",\"K\",\"P\",\"temperature\",\"humidity\",\"ph\",\"rainfall\"]):\n",
    "    print(\"average value for\",conditions,\"is {0:2f}\".format(df[conditions].mean()))\n",
    "    print(\"--------------------------------------------------------------\")\n",
    "    print(\"rice :{0:2f}\".format(df[(df[\"label\"]==\"rice\")][conditions].mean()))\n",
    "    print(\"black grams :{0:2f}\".format(df[(df[\"label\"]==\"black grams\")][conditions].mean()))\n",
    "    print(\"banana :{0:2f}\".format(df[(df[\"label\"]==\"banana\")][conditions].mean()))\n",
    "    print(\"maize :{0:2f}\".format(df[(df[\"label\"]==\"maize\")][conditions].mean()))\n",
    "    print(\"chickpea :{0:2f}\".format(df[(df[\"label\"]==\"chickpea\")][conditions].mean()))\n",
    "    print(\"kidneybeans :{0:2f}\".format(df[(df[\"label\"]==\"kidneybeans\")][conditions].mean()))\n",
    "    print(\"pigeonpeas :{0:2f}\".format(df[(df[\"label\"]==\"pigeonpeas\")][conditions].mean()))\n",
    "    print(\"mothbeans :{0:2f}\".format(df[(df[\"label\"]==\"mothbeans\")][conditions].mean()))\n",
    "    print(\"lentil:{0:2f}\".format(df[(df[\"label\"]==\"lentil\")][conditions].mean()))\n",
    "    print(\"pomegranate :{0:2f}\".format(df[(df[\"label\"]==\"pomegranate\")][conditions].mean()))\n",
    "    print(\"grapes :{0:2f}\".format(df[(df[\"label\"]==\"grapes\")][conditions].mean()))\n",
    "    print(\"watermelon :{0:2f}\".format(df[(df[\"label\"]==\"watermelon\")][conditions].mean()))\n",
    "    print(\"muskmelon :{0:2f}\".format(df[(df[\"label\"]==\"muskmelon\")][conditions].mean()))\n",
    "    print(\"apple :{0:2f}\".format(df[(df[\"label\"]==\"apple\")][conditions].mean()))\n",
    "    print(\"orange :{0:2f}\".format(df[(df[\"label\"]==\"orange\")][conditions].mean()))\n",
    "    print(\"papaya :{0:2f}\".format(df[(df[\"label\"]==\"papaya\")][conditions].mean()))\n",
    "    print(\"coconut :{0:2f}\".format(df[(df[\"label\"]==\"coconut\")][conditions].mean()))\n",
    "    print(\"cotton :{0:2f}\".format(df[(df[\"label\"]==\"cotton\")][conditions].mean()))\n",
    "    print(\"coffee :{0:2f}\".format(df[(df[\"label\"]==\"coffee\")][conditions].mean()))\n",
    "    print(\"mungbean :{0:2f}\".format(df[(df[\"label\"]==\"mungbean\")][conditions].mean()))\n",
    "    print(\"coffee :{0:2f}\".format(df[(df[\"label\"]==\"coffee\")][conditions].mean()))\n",
    "    print(\"mango :{0:2f}\".format(df[(df[\"label\"]==\"mango\")][conditions].mean()))"
   ]
  },
  {
   "cell_type": "code",
   "execution_count": 12,
   "id": "58d21a5b",
   "metadata": {},
   "outputs": [
    {
     "data": {
      "application/vnd.jupyter.widget-view+json": {
       "model_id": "3f1f93200f8440f594acf140c719dd54",
       "version_major": 2,
       "version_minor": 0
      },
      "text/plain": [
       "interactive(children=(Dropdown(description='conditions', options=('N', 'P', 'K', 'temperature', 'ph', 'humidit…"
      ]
     },
     "metadata": {},
     "output_type": "display_data"
    }
   ],
   "source": [
    "# Making the function more interactive: compare less average and greater average \n",
    "@interact\n",
    "def compare(conditions=[\"N\",\"P\",\"K\",\"temperature\",\"ph\",\"humidity\",\"rainfall\"]):\n",
    "    print(\"crops with require greater than average\",conditions,'\\n')\n",
    "    print(df[df[conditions]>df[conditions].mean()][\"label\"].unique())\n",
    "    print(\"----------------------------------------------------------------------\")\n",
    "    print(\"crops wich require less than average\",conditions,'\\n')\n",
    "    print(df[df[conditions]<=df[conditions].mean()][\"label\"].unique())\n"
   ]
  },
  {
   "cell_type": "code",
   "execution_count": 13,
   "id": "2c5de6a6",
   "metadata": {},
   "outputs": [
    {
     "name": "stdout",
     "output_type": "stream",
     "text": [
      "Some interesting facts\n",
      "..........................................\n",
      "crop which requires very high ratio of nitrogen content in soil ['cotton']\n",
      "crop which requires very high ratio of phosphorous content in soil ['grapes' 'apple']\n",
      "crop which requires very high ratio of potassium content in soil ['grapes' 'apple']\n",
      "crop which requires very high ratio of temperature content in soil ['grapes' 'papaya']\n",
      "crop which requires very low ratio of temperature content in soil ['grapes']\n",
      "crop which requires very low ratio of humidity content in soil ['chickpea' 'kidneybeans']\n",
      "crop which requires very high ratio of ph ['mothbeans']\n",
      "crop which requires very low ratio of ph  ['mothbeans']\n",
      "crop which requires very high rainfall content in soil ['rice' 'papaya' 'coconut']\n"
     ]
    }
   ],
   "source": [
    "# Finding interesting facts \n",
    "\n",
    "print(\"Some interesting facts\")\n",
    "print(\"..........................................\")\n",
    "print(\"crop which requires very high ratio of nitrogen content in soil\",df[df[\"N\"]>120][\"label\"].unique())\n",
    "print(\"crop which requires very high ratio of phosphorous content in soil\",df[df[\"P\"]>100][\"label\"].unique())\n",
    "print(\"crop which requires very high ratio of potassium content in soil\",df[df[\"K\"]>200][\"label\"].unique())\n",
    "print(\"crop which requires very high ratio of temperature content in soil\",df[df[\"temperature\"]>40][\"label\"].unique())\n",
    "print(\"crop which requires very low ratio of temperature content in soil\",df[df[\"temperature\"]<10][\"label\"].unique())\n",
    "print(\"crop which requires very low ratio of humidity content in soil\",df[df[\"humidity\"]<20][\"label\"].unique())\n",
    "print(\"crop which requires very high ratio of ph\",df[df[\"ph\"]>9][\"label\"].unique())\n",
    "print(\"crop which requires very low ratio of ph \",df[df[\"ph\"]<4][\"label\"].unique())\n",
    "print(\"crop which requires very high rainfall content in soil\",df[df[\"rainfall\"]>200][\"label\"].unique())"
   ]
  },
  {
   "cell_type": "code",
   "execution_count": 14,
   "id": "e4268877",
   "metadata": {},
   "outputs": [
    {
     "name": "stdout",
     "output_type": "stream",
     "text": [
      "summer crops :\n",
      "['pigeonpeas' 'mothbeans' 'blackgram' 'mango' 'grapes' 'orange' 'papaya']\n",
      "...............................................................\n",
      "winter crops :\n",
      "['maize' 'pigeonpeas' 'lentil' 'pomegranate' 'grapes' 'orange']\n",
      "----------------------------------------------------------\n",
      "Rainy crops :\n",
      "['rice' 'papaya' 'coconut']\n"
     ]
    }
   ],
   "source": [
    "# Understanding which crops can only be grown in summer season, winter season, and rainy season\n",
    "\n",
    "print(\"summer crops :\")\n",
    "print(df[(df[\"temperature\"]>30) & (df[\"humidity\"]>50)][\"label\"].unique())\n",
    "print(\"...............................................................\")\n",
    "print(\"winter crops :\")\n",
    "print(df[(df[\"temperature\"]<20) & (df[\"humidity\"]>30)][\"label\"].unique())\n",
    "print(\"----------------------------------------------------------\")\n",
    "print(\"Rainy crops :\")\n",
    "print(df[(df[\"rainfall\"]>200) & (df[\"humidity\"]>30)][\"label\"].unique())"
   ]
  },
  {
   "cell_type": "code",
   "execution_count": 15,
   "id": "731ffb76",
   "metadata": {},
   "outputs": [],
   "source": [
    "import warnings\n",
    "warnings.filterwarnings('ignore')"
   ]
  },
  {
   "cell_type": "code",
   "execution_count": 16,
   "id": "29dbddb1",
   "metadata": {},
   "outputs": [
    {
     "data": {
      "text/html": [
       "<div>\n",
       "<style scoped>\n",
       "    .dataframe tbody tr th:only-of-type {\n",
       "        vertical-align: middle;\n",
       "    }\n",
       "\n",
       "    .dataframe tbody tr th {\n",
       "        vertical-align: top;\n",
       "    }\n",
       "\n",
       "    .dataframe thead th {\n",
       "        text-align: right;\n",
       "    }\n",
       "</style>\n",
       "<table border=\"1\" class=\"dataframe\">\n",
       "  <thead>\n",
       "    <tr style=\"text-align: right;\">\n",
       "      <th></th>\n",
       "      <th>0</th>\n",
       "      <th>1</th>\n",
       "      <th>2</th>\n",
       "      <th>3</th>\n",
       "      <th>4</th>\n",
       "      <th>5</th>\n",
       "      <th>6</th>\n",
       "    </tr>\n",
       "  </thead>\n",
       "  <tbody>\n",
       "    <tr>\n",
       "      <th>0</th>\n",
       "      <td>90.0</td>\n",
       "      <td>42.0</td>\n",
       "      <td>43.0</td>\n",
       "      <td>20.879744</td>\n",
       "      <td>82.002744</td>\n",
       "      <td>6.502985</td>\n",
       "      <td>202.935536</td>\n",
       "    </tr>\n",
       "    <tr>\n",
       "      <th>1</th>\n",
       "      <td>85.0</td>\n",
       "      <td>58.0</td>\n",
       "      <td>41.0</td>\n",
       "      <td>21.770462</td>\n",
       "      <td>80.319644</td>\n",
       "      <td>7.038096</td>\n",
       "      <td>226.655537</td>\n",
       "    </tr>\n",
       "    <tr>\n",
       "      <th>2</th>\n",
       "      <td>60.0</td>\n",
       "      <td>55.0</td>\n",
       "      <td>44.0</td>\n",
       "      <td>23.004459</td>\n",
       "      <td>82.320763</td>\n",
       "      <td>7.840207</td>\n",
       "      <td>263.964248</td>\n",
       "    </tr>\n",
       "    <tr>\n",
       "      <th>3</th>\n",
       "      <td>74.0</td>\n",
       "      <td>35.0</td>\n",
       "      <td>40.0</td>\n",
       "      <td>26.491096</td>\n",
       "      <td>80.158363</td>\n",
       "      <td>6.980401</td>\n",
       "      <td>242.864034</td>\n",
       "    </tr>\n",
       "    <tr>\n",
       "      <th>4</th>\n",
       "      <td>78.0</td>\n",
       "      <td>42.0</td>\n",
       "      <td>42.0</td>\n",
       "      <td>20.130175</td>\n",
       "      <td>81.604873</td>\n",
       "      <td>7.628473</td>\n",
       "      <td>262.717340</td>\n",
       "    </tr>\n",
       "  </tbody>\n",
       "</table>\n",
       "</div>"
      ],
      "text/plain": [
       "      0     1     2          3          4         5           6\n",
       "0  90.0  42.0  43.0  20.879744  82.002744  6.502985  202.935536\n",
       "1  85.0  58.0  41.0  21.770462  80.319644  7.038096  226.655537\n",
       "2  60.0  55.0  44.0  23.004459  82.320763  7.840207  263.964248\n",
       "3  74.0  35.0  40.0  26.491096  80.158363  6.980401  242.864034\n",
       "4  78.0  42.0  42.0  20.130175  81.604873  7.628473  262.717340"
      ]
     },
     "execution_count": 16,
     "metadata": {},
     "output_type": "execute_result"
    }
   ],
   "source": [
    "z = df.drop(['label'],axis=1)\n",
    "z = df.loc[:,z.columns].values\n",
    "x_df = pd.DataFrame(z)\n",
    "x_df.head()"
   ]
  },
  {
   "cell_type": "code",
   "execution_count": 17,
   "id": "ada3e24a",
   "metadata": {},
   "outputs": [
    {
     "data": {
      "image/png": "[encoded data removed]",
      "text/plain": [
       "<Figure size 1000x400 with 1 Axes>"
      ]
     },
     "metadata": {},
     "output_type": "display_data"
    }
   ],
   "source": [
    "#Determine Optimum number of cluster by elbow method\n",
    "from sklearn.cluster import KMeans\n",
    "plt.rcParams['figure.figsize'] = (10,4)\n",
    "wcss = []\n",
    "for i in range (1,11):\n",
    "    km = KMeans(n_clusters =i, init= 'k-means++', max_iter=300, n_init=10, random_state=0)\n",
    "    km.fit(z)\n",
    "    wcss.append(km.inertia_)  \n",
    "#plot the results\n",
    "plt.plot(range(1,11), wcss)\n",
    "plt.title('Elbow Method', fontsize= 15)\n",
    "plt.xlabel('No. of cluster')\n",
    "plt.ylabel('wcss')\n",
    "plt.show()"
   ]
  },
  {
   "cell_type": "code",
   "execution_count": 18,
   "id": "bd8a89df",
   "metadata": {},
   "outputs": [],
   "source": [
    "km = KMeans(n_clusters =4, init= 'k-means++', max_iter=300, n_init=10, random_state=0)\n",
    "y_means= km.fit_predict(z)\n",
    "\n",
    "a = df['label']\n",
    "y_means = pd.DataFrame(y_means)\n",
    "w = pd.concat([y_means, a], axis=1)\n",
    "w =w.rename(columns= {0:'cluster'})"
   ]
  },
  {
   "cell_type": "code",
   "execution_count": 19,
   "id": "09cdf39d",
   "metadata": {},
   "outputs": [
    {
     "name": "stdout",
     "output_type": "stream",
     "text": [
      "Crops is cluster 0 ['maize' 'chickpea' 'kidneybeans' 'pigeonpeas' 'mothbeans' 'mungbean'\n",
      " 'blackgram' 'lentil' 'pomegranate' 'mango' 'orange' 'papaya' 'coconut']\n",
      "---------------------------------------------------------------------------------------\n",
      "Crops is cluster 1 ['maize' 'banana' 'watermelon' 'muskmelon' 'papaya' 'cotton' 'coffee']\n",
      "---------------------------------------------------------------------------------------\n",
      "Crops is cluster 2 ['grapes' 'apple']\n",
      "---------------------------------------------------------------------------------------\n",
      "Crops is cluster 3 ['rice' 'pigeonpeas' 'papaya' 'coconut' 'jute' 'coffee']\n",
      "---------------------------------------------------------------------------------------\n"
     ]
    }
   ],
   "source": [
    "#Checking Cluster of each group\n",
    "\n",
    "for i in range(0,4): #for 4 clusters 0,1,2,3\n",
    "    print('Crops is cluster', i, w[w['cluster']==i]['label'].unique())\n",
    "    print('---------------------------------------------------------------------------------------')"
   ]
  },
  {
   "cell_type": "code",
   "execution_count": 20,
   "id": "cef6ba94",
   "metadata": {},
   "outputs": [
    {
     "name": "stdout",
     "output_type": "stream",
     "text": [
      "shape of x : (2200, 7)\n",
      "shape of y : (2200,)\n"
     ]
    }
   ],
   "source": [
    "# Spliting the dataset for predictive modelling \n",
    "y=df[\"label\"]\n",
    "x=df.drop([\"label\"],axis=1)\n",
    "\n",
    "print(\"shape of x :\",x.shape)\n",
    "print(\"shape of y :\",y.shape)"
   ]
  },
  {
   "cell_type": "code",
   "execution_count": 21,
   "id": "8d84aa59",
   "metadata": {},
   "outputs": [
    {
     "name": "stdout",
     "output_type": "stream",
     "text": [
      "shape of x_train : (1760, 7)\n",
      "shape of x_test : (440, 7)\n",
      "shape of y_train : (1760,)\n",
      "shape of y_test :  (440,)\n"
     ]
    }
   ],
   "source": [
    "# Creating training and testing sets for validation of results \n",
    "from sklearn.model_selection import train_test_split\n",
    "x_train,x_test,y_train,y_test=train_test_split(x,y,test_size=0.2,random_state=0)\n",
    "\n",
    "print(\"shape of x_train :\",x_train.shape)\n",
    "print(\"shape of x_test :\",x_test.shape)\n",
    "print(\"shape of y_train :\",y_train.shape)\n",
    "print(\"shape of y_test : \",y_test.shape)"
   ]
  },
  {
   "cell_type": "code",
   "execution_count": 22,
   "id": "52250b8b",
   "metadata": {},
   "outputs": [],
   "source": [
    "# Creating predictive model \n",
    "from sklearn.linear_model import LogisticRegression\n",
    "model=LogisticRegression()\n",
    "model.fit(x_train,y_train)\n",
    "y_predict =model.predict(x_test)"
   ]
  },
  {
   "cell_type": "code",
   "execution_count": 23,
   "id": "4d4b66e1",
   "metadata": {},
   "outputs": [
    {
     "data": {
      "image/png": "[encoded data removed]",
      "text/plain": [
       "<Figure size 1000x1000 with 2 Axes>"
      ]
     },
     "metadata": {},
     "output_type": "display_data"
    }
   ],
   "source": [
    "# Evaluating the model performance \n",
    "from sklearn.metrics import confusion_matrix\n",
    "\n",
    "# Printing confusion metrics \n",
    "plt.rcParams['figure.figsize'] =(10, 10)\n",
    "cm=confusion_matrix(y_test,y_predict)\n",
    "sns.heatmap(cm,annot=True ,cmap='Wistia')\n",
    "plt.title('confusion matrix for logistic regression  ',fontsize=15)\n",
    "plt.show()"
   ]
  },
  {
   "cell_type": "code",
   "execution_count": 24,
   "id": "69f033f5",
   "metadata": {},
   "outputs": [
    {
     "data": {
      "text/html": [
       "<div>\n",
       "<style scoped>\n",
       "    .dataframe tbody tr th:only-of-type {\n",
       "        vertical-align: middle;\n",
       "    }\n",
       "\n",
       "    .dataframe tbody tr th {\n",
       "        vertical-align: top;\n",
       "    }\n",
       "\n",
       "    .dataframe thead th {\n",
       "        text-align: right;\n",
       "    }\n",
       "</style>\n",
       "<table border=\"1\" class=\"dataframe\">\n",
       "  <thead>\n",
       "    <tr style=\"text-align: right;\">\n",
       "      <th></th>\n",
       "      <th>N</th>\n",
       "      <th>P</th>\n",
       "      <th>K</th>\n",
       "      <th>temperature</th>\n",
       "      <th>humidity</th>\n",
       "      <th>ph</th>\n",
       "      <th>rainfall</th>\n",
       "      <th>label</th>\n",
       "    </tr>\n",
       "  </thead>\n",
       "  <tbody>\n",
       "    <tr>\n",
       "      <th>0</th>\n",
       "      <td>90</td>\n",
       "      <td>42</td>\n",
       "      <td>43</td>\n",
       "      <td>20.879744</td>\n",
       "      <td>82.002744</td>\n",
       "      <td>6.502985</td>\n",
       "      <td>202.935536</td>\n",
       "      <td>rice</td>\n",
       "    </tr>\n",
       "    <tr>\n",
       "      <th>1</th>\n",
       "      <td>85</td>\n",
       "      <td>58</td>\n",
       "      <td>41</td>\n",
       "      <td>21.770462</td>\n",
       "      <td>80.319644</td>\n",
       "      <td>7.038096</td>\n",
       "      <td>226.655537</td>\n",
       "      <td>rice</td>\n",
       "    </tr>\n",
       "    <tr>\n",
       "      <th>2</th>\n",
       "      <td>60</td>\n",
       "      <td>55</td>\n",
       "      <td>44</td>\n",
       "      <td>23.004459</td>\n",
       "      <td>82.320763</td>\n",
       "      <td>7.840207</td>\n",
       "      <td>263.964248</td>\n",
       "      <td>rice</td>\n",
       "    </tr>\n",
       "    <tr>\n",
       "      <th>3</th>\n",
       "      <td>74</td>\n",
       "      <td>35</td>\n",
       "      <td>40</td>\n",
       "      <td>26.491096</td>\n",
       "      <td>80.158363</td>\n",
       "      <td>6.980401</td>\n",
       "      <td>242.864034</td>\n",
       "      <td>rice</td>\n",
       "    </tr>\n",
       "    <tr>\n",
       "      <th>4</th>\n",
       "      <td>78</td>\n",
       "      <td>42</td>\n",
       "      <td>42</td>\n",
       "      <td>20.130175</td>\n",
       "      <td>81.604873</td>\n",
       "      <td>7.628473</td>\n",
       "      <td>262.717340</td>\n",
       "      <td>rice</td>\n",
       "    </tr>\n",
       "  </tbody>\n",
       "</table>\n",
       "</div>"
      ],
      "text/plain": [
       "    N   P   K  temperature   humidity        ph    rainfall label\n",
       "0  90  42  43    20.879744  82.002744  6.502985  202.935536  rice\n",
       "1  85  58  41    21.770462  80.319644  7.038096  226.655537  rice\n",
       "2  60  55  44    23.004459  82.320763  7.840207  263.964248  rice\n",
       "3  74  35  40    26.491096  80.158363  6.980401  242.864034  rice\n",
       "4  78  42  42    20.130175  81.604873  7.628473  262.717340  rice"
      ]
     },
     "execution_count": 24,
     "metadata": {},
     "output_type": "execute_result"
    }
   ],
   "source": [
    "df.head(5)"
   ]
  },
  {
   "cell_type": "code",
   "execution_count": 25,
   "id": "5169e5a6",
   "metadata": {},
   "outputs": [
    {
     "name": "stdout",
     "output_type": "stream",
     "text": [
      "The best crop predicted is: ['rice']\n"
     ]
    }
   ],
   "source": [
    "# lets predict real time data\n",
    "prediction = model.predict((np.array([[74,35,40,26.49,80.15,6,242]])))\n",
    "print(\"The best crop predicted is:\",prediction)"
   ]
  },
  {
   "cell_type": "code",
   "execution_count": null,
   "id": "4fed26e3",
   "metadata": {},
   "outputs": [],
   "source": []
  }
 ],
 "metadata": {
  "kernelspec": {
   "display_name": "Python 3 (ipykernel)",
   "language": "python",
   "name": "python3"
  },
  "language_info": {
   "codemirror_mode": {
    "name": "ipython",
    "version": 3
   },
   "file_extension": ".py",
   "mimetype": "text/x-python",
   "name": "python",
   "nbconvert_exporter": "python",
   "pygments_lexer": "ipython3",
   "version": "3.10.9"
  }
 },
 "nbformat": 4,
 "nbformat_minor": 5
}
